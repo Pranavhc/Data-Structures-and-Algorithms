{
 "cells": [
  {
   "cell_type": "markdown",
   "metadata": {},
   "source": [
    "**Time complexity: O(n^2)** | **Space complexity: O(1)**\n",
    "\n",
    "Insertion Sort explanation - https://en.wikipedia.org/wiki/Insertion_sort\n",
    "\n",
    "**Algorithm**\n",
    "1. Start from the second element of the array\n",
    "2. Compare the current element with the previous one\n",
    "3. If the previous element is greater than the current element, swap them\n",
    "4. Continue this process until the end of the array"
   ]
  },
  {
   "cell_type": "code",
   "execution_count": 1,
   "metadata": {},
   "outputs": [],
   "source": [
    "from typing import List\n",
    "\n",
    "def insertion_sort(arr:List) -> None:\n",
    "    for i in range(len(arr)):\n",
    "        curr = arr[i]\n",
    "        prev = i-1\n",
    "        while prev >= 0 and arr[prev] > curr:\n",
    "            arr[prev+1] = arr[prev]\n",
    "            prev -= 1\n",
    "        arr[prev+1] = curr"
   ]
  },
  {
   "cell_type": "code",
   "execution_count": 4,
   "metadata": {},
   "outputs": [
    {
     "name": "stdout",
     "output_type": "stream",
     "text": [
      "CPU times: total: 1.89 s\n",
      "Wall time: 1.95 s\n",
      "Sorted: True\n"
     ]
    }
   ],
   "source": [
    "import numpy as np\n",
    "arr = np.random.randint(0, 10000, (10000,)).tolist()\n",
    "\n",
    "sorted_arr = arr.copy()\n",
    "%time insertion_sort(sorted_arr)\n",
    "\n",
    "print(\"Sorted:\", sorted_arr == sorted(arr))\n"
   ]
  }
 ],
 "metadata": {
  "kernelspec": {
   "display_name": "Python 3",
   "language": "python",
   "name": "python3"
  },
  "language_info": {
   "codemirror_mode": {
    "name": "ipython",
    "version": 3
   },
   "file_extension": ".py",
   "mimetype": "text/x-python",
   "name": "python",
   "nbconvert_exporter": "python",
   "pygments_lexer": "ipython3",
   "version": "3.11.9"
  }
 },
 "nbformat": 4,
 "nbformat_minor": 2
}
