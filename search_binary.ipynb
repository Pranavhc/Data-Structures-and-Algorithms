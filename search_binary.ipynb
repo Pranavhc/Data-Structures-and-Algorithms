{
 "cells": [
  {
   "cell_type": "markdown",
   "metadata": {},
   "source": [
    "**Time complexity: O(log n)** | **Space complexity: O(1)**\n",
    "\n",
    "**Algorithm:**\n",
    "1. start from the first to the last element.\n",
    "2. calculate the middle index.\n",
    "3. if the key is equal to the middle element, return the index.\n",
    "4. if the key is greater than the middle element, start searching from the middle element to the last.\n",
    "5. if the key is less than the middle element, start searching from the staer and end at the middle element.\n",
    "6. if the key is not found, return -1"
   ]
  },
  {
   "cell_type": "code",
   "execution_count": 1,
   "metadata": {},
   "outputs": [],
   "source": [
    "def binary_search(arr:[], key: int) -> int:\n",
    "    start = 0\n",
    "    end = len(arr)-1\n",
    "\n",
    "    while(start <= end):\n",
    "        mid = (start+end) // 2\n",
    "\n",
    "        if key == arr[mid]:\n",
    "            return mid\n",
    "        \n",
    "        if key > arr[mid]:\n",
    "            start = mid + 1 \n",
    "        \n",
    "        elif key < arr[mid]:\n",
    "            end = mid - 1\n",
    "\n",
    "    return -1"
   ]
  },
  {
   "cell_type": "code",
   "execution_count": 2,
   "metadata": {},
   "outputs": [
    {
     "name": "stdout",
     "output_type": "stream",
     "text": [
      "2\n"
     ]
    }
   ],
   "source": [
    "arr = [0,2,4,5,7,8]\n",
    "print(binary_search(arr, 4))"
   ]
  }
 ],
 "metadata": {
  "kernelspec": {
   "display_name": "Python 3",
   "language": "python",
   "name": "python3"
  },
  "language_info": {
   "codemirror_mode": {
    "name": "ipython",
    "version": 3
   },
   "file_extension": ".py",
   "mimetype": "text/x-python",
   "name": "python",
   "nbconvert_exporter": "python",
   "pygments_lexer": "ipython3",
   "version": "3.11.9"
  }
 },
 "nbformat": 4,
 "nbformat_minor": 2
}
