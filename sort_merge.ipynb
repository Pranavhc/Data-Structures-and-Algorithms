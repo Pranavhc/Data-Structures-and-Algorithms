{
 "cells": [
  {
   "cell_type": "markdown",
   "metadata": {},
   "source": [
    "**Time complexity: O(n*log n)** | **Space complexity: O(n)**\n",
    "\n",
    "**Algorithm**\n",
    "1. Divide the array into two halves\n",
    "2. Recursively sort the left half\n",
    "3. Recursively sort the right half\n",
    "4. Merge the two sorted halves into a single sorted array"
   ]
  },
  {
   "cell_type": "code",
   "execution_count": 1,
   "metadata": {},
   "outputs": [],
   "source": [
    "def merge(left_half: list[int], right_half: list[int]) -> list[int]:\n",
    "    merged: list[int] = []\n",
    "    i = j = 0\n",
    "    \n",
    "    while i < len(left_half) and j < len(right_half):\n",
    "        if left_half[i] < right_half[j]:\n",
    "            merged.append(left_half[i])\n",
    "            i += 1\n",
    "        else:\n",
    "            merged.append(right_half[j])\n",
    "            j += 1\n",
    "\n",
    "    while i < len(left_half):\n",
    "        merged.append(left_half[i])\n",
    "        i += 1\n",
    "\n",
    "    while j < len(right_half):\n",
    "        merged.append(right_half[j])\n",
    "        j += 1\n",
    "\n",
    "    return merged\n",
    "\n",
    "def merge_sort(arr: list[int]) -> list[int]:\n",
    "    if len(arr) <= 1:\n",
    "        return arr\n",
    "    \n",
    "    mid = len(arr)//2\n",
    "    left_half = merge_sort(arr[:mid])\n",
    "    right_half = merge_sort(arr[mid:])\n",
    "\n",
    "    return merge(left_half, right_half)"
   ]
  },
  {
   "cell_type": "code",
   "execution_count": 5,
   "metadata": {},
   "outputs": [
    {
     "name": "stdout",
     "output_type": "stream",
     "text": [
      "CPU times: total: 0 ns\n",
      "Wall time: 27.6 ms\n",
      "Sorted: True\n"
     ]
    }
   ],
   "source": [
    "import numpy as np\n",
    "arr = np.random.randint(0, 10000, (10000,)).tolist()\n",
    "\n",
    "%time sorted_arr = merge_sort(arr)\n",
    "\n",
    "print(\"Sorted:\", sorted_arr == sorted(arr))\n"
   ]
  }
 ],
 "metadata": {
  "kernelspec": {
   "display_name": "Python 3",
   "language": "python",
   "name": "python3"
  },
  "language_info": {
   "codemirror_mode": {
    "name": "ipython",
    "version": 3
   },
   "file_extension": ".py",
   "mimetype": "text/x-python",
   "name": "python",
   "nbconvert_exporter": "python",
   "pygments_lexer": "ipython3",
   "version": "3.11.9"
  }
 },
 "nbformat": 4,
 "nbformat_minor": 2
}
