{
 "cells": [
  {
   "cell_type": "markdown",
   "metadata": {},
   "source": [
    "### Tim Sort\n",
    "**Time Complexity: O(n*log(n))** | **Space Complexity: O(n)**\n",
    "\n",
    "1. Divide the array into blocks of size RUN\n",
    "2. Sort the individual RUN using binary insertion sort\n",
    "3. Merge the sorted RUNs using merge sort\n",
    "\n",
    "- There's a feature called \"galloping mode\" in Tim Sort, which is used to speed up the merging process. Which is not implemented in this code.\n",
    "- Galloping mode takes advantage of already sorted parts of the array (if available)."
   ]
  },
  {
   "cell_type": "code",
   "execution_count": 2,
   "metadata": {},
   "outputs": [],
   "source": [
    "def insertion_sort(arr:list[int]) -> None:\n",
    "    for i in range(len(arr)):\n",
    "        curr = arr[i]\n",
    "        prev = i-1\n",
    "        while prev >= 0 and arr[prev] > curr:\n",
    "            arr[prev+1] = arr[prev]\n",
    "            prev -= 1\n",
    "        arr[prev+1] = curr\n",
    "\n",
    "def merge(left_half:list[int], right_half:list[int]) -> list[int]:\n",
    "    merged:list[int] = []\n",
    "    i = j = 0\n",
    "\n",
    "    while i < len(left_half) and j < len(right_half):\n",
    "        if left_half[i] < right_half[j]:\n",
    "            merged.append(left_half[i])\n",
    "            i += 1\n",
    "        else: \n",
    "            merged.append(right_half[j])\n",
    "            j += 1\n",
    "\n",
    "    while i < len(left_half):\n",
    "        merged.append(left_half[i])\n",
    "        i += 1\n",
    "\n",
    "    while j < len(right_half):\n",
    "        merged.append(right_half[j])\n",
    "        j += 1\n",
    "    return merged\n",
    "\n",
    "def tim_sort(arr:list[int], MIN_RUN=32) -> list[int]:\n",
    "    if len(arr) <= 1: return arr\n",
    "\n",
    "    # split the array into runs and sort each run with insertion sort\n",
    "    runs = [arr[i:i+MIN_RUN] for i in range(0, len(arr), MIN_RUN)]\n",
    "    for r in runs: insertion_sort(r)\n",
    "\n",
    "    # merge the runs together\n",
    "    while len(runs) > 1:\n",
    "        left = runs.pop(0)\n",
    "        right = runs.pop(0)\n",
    "        merged_run = merge(left, right)\n",
    "        runs.append(merged_run) \n",
    "    \n",
    "    return runs[0]"
   ]
  },
  {
   "cell_type": "markdown",
   "metadata": {},
   "source": [
    "Note: Instead of using Binary Insertion Sort, we can use Insertion Sort as well. But Binary Insertion Sort. "
   ]
  },
  {
   "cell_type": "code",
   "execution_count": 3,
   "metadata": {},
   "outputs": [
    {
     "name": "stdout",
     "output_type": "stream",
     "text": [
      "CPU times: total: 15.6 ms\n",
      "Wall time: 19 ms\n",
      "Sorted: True\n"
     ]
    }
   ],
   "source": [
    "import numpy as np\n",
    "\n",
    "arr = np.random.randint(0, 10000, (10000,)).tolist()\n",
    "%time sorted_arr = tim_sort(arr)\n",
    "print(\"Sorted:\", sorted_arr == sorted(arr))\n"
   ]
  }
 ],
 "metadata": {
  "kernelspec": {
   "display_name": "Python 3",
   "language": "python",
   "name": "python3"
  },
  "language_info": {
   "codemirror_mode": {
    "name": "ipython",
    "version": 3
   },
   "file_extension": ".py",
   "mimetype": "text/x-python",
   "name": "python",
   "nbconvert_exporter": "python",
   "pygments_lexer": "ipython3",
   "version": "3.11.9"
  }
 },
 "nbformat": 4,
 "nbformat_minor": 2
}
