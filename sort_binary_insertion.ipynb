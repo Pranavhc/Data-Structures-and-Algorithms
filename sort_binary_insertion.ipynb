{
 "cells": [
  {
   "cell_type": "markdown",
   "metadata": {},
   "source": [
    "**This is only slightly faster than Insertion Sort.**"
   ]
  },
  {
   "cell_type": "code",
   "execution_count": 2,
   "metadata": {},
   "outputs": [],
   "source": [
    "def binary_search(arr:list[int], key:int, start:int, end:int) -> int:\n",
    "    while start < end:\n",
    "        mid = (start + end) // 2\n",
    "        if key > arr[mid]: start = mid + 1\n",
    "        else: end = mid\n",
    "    return start\n",
    "        \n",
    "def insertion_sort(arr:list[int]) -> None:\n",
    "    for i in range(1, len(arr)):\n",
    "        key = arr[i]\n",
    "        pos = binary_search(arr, key, 0, i)\n",
    "        for j in range(i, pos, -1): \n",
    "            arr[j] = arr[j-1]\n",
    "        arr[pos] = key\n"
   ]
  },
  {
   "cell_type": "code",
   "execution_count": 4,
   "metadata": {},
   "outputs": [
    {
     "name": "stdout",
     "output_type": "stream",
     "text": [
      "CPU times: total: 1.12 s\n",
      "Wall time: 1.14 s\n",
      "Sorted: True\n"
     ]
    }
   ],
   "source": [
    "import numpy as np\n",
    "\n",
    "arr = np.random.randint(0, 10000, (10000,)).tolist()\n",
    "\n",
    "sorted_arr = arr.copy()\n",
    "%time insertion_sort(sorted_arr)\n",
    "\n",
    "print(\"Sorted:\", sorted_arr == sorted(arr))\n"
   ]
  }
 ],
 "metadata": {
  "kernelspec": {
   "display_name": "Python 3",
   "language": "python",
   "name": "python3"
  },
  "language_info": {
   "codemirror_mode": {
    "name": "ipython",
    "version": 3
   },
   "file_extension": ".py",
   "mimetype": "text/x-python",
   "name": "python",
   "nbconvert_exporter": "python",
   "pygments_lexer": "ipython3",
   "version": "3.11.9"
  }
 },
 "nbformat": 4,
 "nbformat_minor": 2
}
