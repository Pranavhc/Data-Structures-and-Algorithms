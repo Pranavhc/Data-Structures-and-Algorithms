{
 "cells": [
  {
   "cell_type": "markdown",
   "metadata": {},
   "source": [
    "### Quick Sort\n",
    "\n",
    "- we pick a pivot element & compare all the other elements to it.\n",
    "- we make sure that smaller elements than the pivot go to the left side of the list\n",
    "- and greater ones go to the right side of the list.\n",
    "- this is called weak sorting. With this the list gradually gets sorted."
   ]
  },
  {
   "cell_type": "code",
   "execution_count": 14,
   "metadata": {},
   "outputs": [],
   "source": [
    "def partition(arr:list, low:int, high:int) -> int:\n",
    "    pivot = arr[high]\n",
    "    i = low - 1\n",
    "\n",
    "    for j in range(low, high):\n",
    "        if arr[j]  <= pivot: \n",
    "            i += 1\n",
    "            arr[i], arr[j] = arr[j], arr[i]\n",
    "\n",
    "    i += 1\n",
    "    arr[i], arr[high] = arr[high], arr[i]\n",
    "    return i\n",
    "\n",
    "def qsort(arr:list, low:int, high:int) -> None:\n",
    "    if low >= high: return\n",
    "\n",
    "    pivot = partition(arr, low, high)\n",
    "    qsort(arr, low, pivot-1)\n",
    "    qsort(arr, pivot+1, high)\n"
   ]
  },
  {
   "cell_type": "code",
   "execution_count": 43,
   "metadata": {},
   "outputs": [
    {
     "name": "stdout",
     "output_type": "stream",
     "text": [
      "CPU times: total: 0 ns\n",
      "Wall time: 20 ms\n",
      "Sorted: True\n"
     ]
    }
   ],
   "source": [
    "import numpy as np\n",
    "\n",
    "arr = np.random.randint(0, 10000, (10000,)).tolist()\n",
    "\n",
    "sorted_arr = arr.copy()\n",
    "%time qsort(sorted_arr, 0, len(sorted_arr)-1)\n",
    "\n",
    "print(\"Sorted:\", sorted_arr == sorted(arr))"
   ]
  }
 ],
 "metadata": {
  "kernelspec": {
   "display_name": "Python 3",
   "language": "python",
   "name": "python3"
  },
  "language_info": {
   "codemirror_mode": {
    "name": "ipython",
    "version": 3
   },
   "file_extension": ".py",
   "mimetype": "text/x-python",
   "name": "python",
   "nbconvert_exporter": "python",
   "pygments_lexer": "ipython3",
   "version": "3.11.9"
  }
 },
 "nbformat": 4,
 "nbformat_minor": 2
}
