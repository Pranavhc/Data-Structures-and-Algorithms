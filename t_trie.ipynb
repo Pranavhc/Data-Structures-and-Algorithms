{
 "cells": [
  {
   "cell_type": "markdown",
   "metadata": {},
   "source": [
    "### Trie - Aka, Prefix Tree, Digital Tree\n",
    "\n",
    "- A data structure that is tailored to retrive strings without wasting space. \n",
    "- Used for word suggestions. \n",
    "\n",
    "  **Insertion:** time complexity O(length_of_word)\n",
    "  - base case, if given word's length is 0, mark current node as terminal and return.\n",
    "  - see if current node has a child.\n",
    "  - if yes, get a pointer to it.\n",
    "  - else create a new node, set its data with word's 1st character, set it as current node's child, and get a pointer to it.\n",
    "  - recursively call the function, pass child pointer and given word (omit 1st letter of the word)\n",
    "\n",
    "  **Deletion:** time complexity O(idk)\n",
    "  - later...\n",
    "\n",
    "  **Find with Prefix:** time complexity O(k + m)\n",
    "    <br>\n",
    "    \n",
    "    | **m : the total number of nodes at or below the prefix in the Trie that matches the prefix.** |\n",
    "    ---\n",
    "    | **k : the length of the prefix.**                                                             |\n",
    "    \n",
    "    <br>\n",
    "  \n",
    "  - get the node that has its data correspoding to given prefix's end.\n",
    "  - call another \"find_word\" function on that node, pass prefix, & result array.\n",
    "  - base case, if current node is terminal, push prefix in the result array.\n",
    "  - now in this \"find_word\" function (recurssive), for 26 possible nodes\n",
    "    if current node has a child, call the function recursively passing \n",
    "    current node's child and prefix havin child's data appended to it.\n",
    "    since we are appending new character and only pushing the prefix when\n",
    "    the current node is a terminal node, we get the desired result."
   ]
  },
  {
   "cell_type": "code",
   "execution_count": 4,
   "metadata": {},
   "outputs": [],
   "source": [
    "class Node:\n",
    "    def __init__(self, data):\n",
    "        self.data:str = data\n",
    "        self.children:list[Node] = None\n",
    "        self.is_terminal:bool = False\n",
    "\n",
    "class Trie:\n",
    "    def __init__(self):\n",
    "        self.root:Node = Node('/0')\n",
    "\n",
    "    def insert(self, word:str):\n",
    "        self._insert_word(self.root, word)\n",
    "\n",
    "    def delete(self, word:str):\n",
    "        self._delete_word(self.root, word)\n",
    "\n",
    "    def find(self, partial:str) -> list[str]:\n",
    "        res = []; node = self.root\n",
    "\n",
    "        for ch in partial:\n",
    "            idx = ord(ch) - ord('a')\n",
    "            if node.children[idx] is None: return res\n",
    "            node = node.children[idx]\n",
    "\n",
    "        self._find_words(node, partial, res)\n",
    "        return res\n",
    "    \n",
    "    def _find_words(self, node:Node, word:str, res:list[str]):\n",
    "        if node.is_terminal: res.append(word)\n",
    "\n",
    "        for idx, child in enumerate(node.children):\n",
    "            if child is not None: self._find_words(child, word + chr(ord('a') + idx), res)\n",
    "\n",
    "    def _insert_word(self, node:Node, word:str):\n",
    "        if len(word) == 0: node.is_terminal = True\n",
    "\n",
    "        idx = ord(word[0]) - ord('a')\n",
    "        child:Node = None\n",
    "\n",
    "        if node.children[idx] is not None: child = node.children[idx]\n",
    "        else:\n",
    "            child = Node(word[0])\n",
    "            node.children[idx] = child\n",
    "\n",
    "        self._insert_word(child, word[1:])\n",
    "\n",
    "    def _delete_word(self, node:Node, word:str):\n",
    "        if len(word) == 0: node.is_terminal = False; return\n",
    "\n",
    "        idx:int = ord(word[0]) - ord('a')\n",
    "        child:Node = None\n",
    "\n",
    "        if node.children[idx] is not None: child = node.children[idx]\n",
    "        else: raise ValueError('Word not found!'); return\n",
    "\n",
    "        self._delete_word(child, word[1:])"
   ]
  },
  {
   "cell_type": "code",
   "execution_count": 5,
   "metadata": {},
   "outputs": [
    {
     "ename": "TypeError",
     "evalue": "'NoneType' object is not subscriptable",
     "output_type": "error",
     "traceback": [
      "\u001b[1;31m---------------------------------------------------------------------------\u001b[0m",
      "\u001b[1;31mTypeError\u001b[0m                                 Traceback (most recent call last)",
      "Cell \u001b[1;32mIn[5], line 3\u001b[0m\n\u001b[0;32m      1\u001b[0m t \u001b[38;5;241m=\u001b[39m Trie()\n\u001b[1;32m----> 3\u001b[0m \u001b[43mt\u001b[49m\u001b[38;5;241;43m.\u001b[39;49m\u001b[43minsert\u001b[49m\u001b[43m(\u001b[49m\u001b[38;5;124;43m'\u001b[39;49m\u001b[38;5;124;43mfoo\u001b[39;49m\u001b[38;5;124;43m'\u001b[39;49m\u001b[43m)\u001b[49m\n\u001b[0;32m      4\u001b[0m t\u001b[38;5;241m.\u001b[39minsert(\u001b[38;5;124m'\u001b[39m\u001b[38;5;124mfool\u001b[39m\u001b[38;5;124m'\u001b[39m)\n\u001b[0;32m      5\u001b[0m t\u001b[38;5;241m.\u001b[39minsert(\u001b[38;5;124m'\u001b[39m\u001b[38;5;124mfoolish\u001b[39m\u001b[38;5;124m'\u001b[39m)\n",
      "Cell \u001b[1;32mIn[4], line 12\u001b[0m, in \u001b[0;36mTrie.insert\u001b[1;34m(self, word)\u001b[0m\n\u001b[0;32m     11\u001b[0m \u001b[38;5;28;01mdef\u001b[39;00m \u001b[38;5;21minsert\u001b[39m(\u001b[38;5;28mself\u001b[39m, word:\u001b[38;5;28mstr\u001b[39m):\n\u001b[1;32m---> 12\u001b[0m     \u001b[38;5;28;43mself\u001b[39;49m\u001b[38;5;241;43m.\u001b[39;49m\u001b[43m_insert_word\u001b[49m\u001b[43m(\u001b[49m\u001b[38;5;28;43mself\u001b[39;49m\u001b[38;5;241;43m.\u001b[39;49m\u001b[43mroot\u001b[49m\u001b[43m,\u001b[49m\u001b[43m \u001b[49m\u001b[43mword\u001b[49m\u001b[43m)\u001b[49m\n",
      "Cell \u001b[1;32mIn[4], line 40\u001b[0m, in \u001b[0;36mTrie._insert_word\u001b[1;34m(self, node, word)\u001b[0m\n\u001b[0;32m     37\u001b[0m idx \u001b[38;5;241m=\u001b[39m \u001b[38;5;28mord\u001b[39m(word[\u001b[38;5;241m0\u001b[39m]) \u001b[38;5;241m-\u001b[39m \u001b[38;5;28mord\u001b[39m(\u001b[38;5;124m'\u001b[39m\u001b[38;5;124ma\u001b[39m\u001b[38;5;124m'\u001b[39m)\n\u001b[0;32m     38\u001b[0m child:Node \u001b[38;5;241m=\u001b[39m \u001b[38;5;28;01mNone\u001b[39;00m\n\u001b[1;32m---> 40\u001b[0m \u001b[38;5;28;01mif\u001b[39;00m \u001b[43mnode\u001b[49m\u001b[38;5;241;43m.\u001b[39;49m\u001b[43mchildren\u001b[49m\u001b[43m[\u001b[49m\u001b[43midx\u001b[49m\u001b[43m]\u001b[49m \u001b[38;5;129;01mis\u001b[39;00m \u001b[38;5;129;01mnot\u001b[39;00m \u001b[38;5;28;01mNone\u001b[39;00m: child \u001b[38;5;241m=\u001b[39m node\u001b[38;5;241m.\u001b[39mchildren[idx]\n\u001b[0;32m     41\u001b[0m \u001b[38;5;28;01melse\u001b[39;00m:\n\u001b[0;32m     42\u001b[0m     child \u001b[38;5;241m=\u001b[39m Node(word[\u001b[38;5;241m0\u001b[39m])\n",
      "\u001b[1;31mTypeError\u001b[0m: 'NoneType' object is not subscriptable"
     ]
    }
   ],
   "source": [
    "t = Trie()\n",
    "\n",
    "t.insert('foo')\n",
    "t.insert('fool')\n",
    "t.insert('foolish')\n",
    "t.insert('bar')\n",
    "\n",
    "print(t.find('foo'))"
   ]
  }
 ],
 "metadata": {
  "kernelspec": {
   "display_name": "Python 3",
   "language": "python",
   "name": "python3"
  },
  "language_info": {
   "codemirror_mode": {
    "name": "ipython",
    "version": 3
   },
   "file_extension": ".py",
   "mimetype": "text/x-python",
   "name": "python",
   "nbconvert_exporter": "python",
   "pygments_lexer": "ipython3",
   "version": "3.11.9"
  }
 },
 "nbformat": 4,
 "nbformat_minor": 2
}
