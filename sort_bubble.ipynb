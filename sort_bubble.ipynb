{
 "cells": [
  {
   "cell_type": "markdown",
   "metadata": {},
   "source": [
    "**Time complexity: O(n^2)** | **Space complexity: O(1)**\n",
    "\n",
    "Bubble Sort explanations - https://en.wikipedia.org/wiki/Bubble_sort\n",
    "\n",
    "**Algorithm**\n",
    "1. Start with the first element\n",
    "2. Compare the next element with the current element\n",
    "3. If the next element is smaller than the current element, swap them\n",
    "4. Repeat steps 2 and 3 until the end of the list\n"
   ]
  },
  {
   "cell_type": "code",
   "execution_count": 1,
   "metadata": {},
   "outputs": [],
   "source": [
    "from typing import List\n",
    "\n",
    "def bubble_sort(arr:List) -> None:\n",
    "    for i in range(len(arr) - 1):\n",
    "        for j in range(len(arr)- i - 1):\n",
    "            if arr[j] > arr[j+1]:\n",
    "                arr[j], arr[j+1] = arr[j+1], arr[j]"
   ]
  },
  {
   "cell_type": "code",
   "execution_count": 2,
   "metadata": {},
   "outputs": [
    {
     "name": "stdout",
     "output_type": "stream",
     "text": [
      "CPU times: total: 4.17 s\n",
      "Wall time: 4.72 s\n",
      "Sorted: True\n"
     ]
    }
   ],
   "source": [
    "import numpy as np\n",
    "arr = np.random.randint(0, 10000, (10000,)).tolist()\n",
    "\n",
    "sorted_arr = arr.copy()\n",
    "%time bubble_sort(sorted_arr)\n",
    "\n",
    "print(\"Sorted:\", sorted_arr == sorted(arr))\n"
   ]
  }
 ],
 "metadata": {
  "kernelspec": {
   "display_name": "Python 3",
   "language": "python",
   "name": "python3"
  },
  "language_info": {
   "codemirror_mode": {
    "name": "ipython",
    "version": 3
   },
   "file_extension": ".py",
   "mimetype": "text/x-python",
   "name": "python",
   "nbconvert_exporter": "python",
   "pygments_lexer": "ipython3",
   "version": "3.11.9"
  }
 },
 "nbformat": 4,
 "nbformat_minor": 2
}
